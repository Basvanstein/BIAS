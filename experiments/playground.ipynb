{
 "cells": [
  {
   "cell_type": "code",
   "execution_count": 21,
   "metadata": {},
   "outputs": [
    {
     "ename": "FileNotFoundError",
     "evalue": "[Errno 2] No such file or directory",
     "output_type": "error",
     "traceback": [
      "\u001b[0;31m---------------------------------------------------------------------------\u001b[0m",
      "\u001b[0;31mFileNotFoundError\u001b[0m                         Traceback (most recent call last)",
      "Cell \u001b[0;32mIn[21], line 6\u001b[0m\n\u001b[1;32m      3\u001b[0m \u001b[39mimport\u001b[39;00m \u001b[39mos\u001b[39;00m\n\u001b[1;32m      5\u001b[0m \u001b[39mfor\u001b[39;00m samples \u001b[39min\u001b[39;00m [\u001b[39m600\u001b[39m]:\n\u001b[0;32m----> 6\u001b[0m     dirname \u001b[39m=\u001b[39m os\u001b[39m.\u001b[39mpath\u001b[39m.\u001b[39mdirname(os\u001b[39m.\u001b[39;49mpath\u001b[39m.\u001b[39;49mrealpath(\u001b[39m\"\u001b[39;49m\u001b[39m__file__\u001b[39;49m\u001b[39m\"\u001b[39;49m))\n\u001b[1;32m      7\u001b[0m     f \u001b[39m=\u001b[39m \u001b[39mopen\u001b[39m(\u001b[39mf\u001b[39m\u001b[39m\"\u001b[39m\u001b[39m{\u001b[39;00mdirname\u001b[39m}\u001b[39;00m\u001b[39m/misclassifications_per_scenario_\u001b[39m\u001b[39m{\u001b[39;00msamples\u001b[39m}\u001b[39;00m\u001b[39m.json\u001b[39m\u001b[39m\"\u001b[39m)\n\u001b[1;32m      8\u001b[0m     data \u001b[39m=\u001b[39m json\u001b[39m.\u001b[39mloads(f\u001b[39m.\u001b[39mread())\n",
      "File \u001b[0;32m/usr/lib/python3.8/posixpath.py:392\u001b[0m, in \u001b[0;36mrealpath\u001b[0;34m(filename)\u001b[0m\n\u001b[1;32m    390\u001b[0m filename \u001b[39m=\u001b[39m os\u001b[39m.\u001b[39mfspath(filename)\n\u001b[1;32m    391\u001b[0m path, ok \u001b[39m=\u001b[39m _joinrealpath(filename[:\u001b[39m0\u001b[39m], filename, {})\n\u001b[0;32m--> 392\u001b[0m \u001b[39mreturn\u001b[39;00m abspath(path)\n",
      "File \u001b[0;32m/usr/lib/python3.8/posixpath.py:379\u001b[0m, in \u001b[0;36mabspath\u001b[0;34m(path)\u001b[0m\n\u001b[1;32m    377\u001b[0m         cwd \u001b[39m=\u001b[39m os\u001b[39m.\u001b[39mgetcwdb()\n\u001b[1;32m    378\u001b[0m     \u001b[39melse\u001b[39;00m:\n\u001b[0;32m--> 379\u001b[0m         cwd \u001b[39m=\u001b[39m os\u001b[39m.\u001b[39;49mgetcwd()\n\u001b[1;32m    380\u001b[0m     path \u001b[39m=\u001b[39m join(cwd, path)\n\u001b[1;32m    381\u001b[0m \u001b[39mreturn\u001b[39;00m normpath(path)\n",
      "\u001b[0;31mFileNotFoundError\u001b[0m: [Errno 2] No such file or directory"
     ]
    }
   ],
   "source": [
    "import matplotlib.pyplot as plt\n",
    "import json\n",
    "import os\n",
    "\n",
    "for samples in [600]:\n",
    "    f = open(f\"misclassifications_per_scenario_{samples}.json\")\n",
    "    data = json.loads(f.read())\n",
    "    names = list(data.keys())\n",
    "    values = list(data.values())\n",
    "\n",
    "    zipped_lists = zip(values, names)\n",
    "    sorted_pairs = sorted(zipped_lists, reverse=True)\n",
    "    tuples = zip(*sorted_pairs)\n",
    "    values, names = [ list(tuple) for tuple in  tuples]\n",
    "\n",
    "    fig = plt.figure(figsize=(20,8))\n",
    "    plt.bar(range(len(data)), values, tick_label=names)\n",
    "    plt.xticks(rotation = 90, ha=\"center\")\n",
    "    plt.tight_layout()\n",
    "    plt.savefig(f\"misclassifications_per_scenario_{samples}.png\")"
   ]
  }
 ],
 "metadata": {
  "kernelspec": {
   "display_name": "Python 3.8.10 ('env': venv)",
   "language": "python",
   "name": "python3"
  },
  "language_info": {
   "codemirror_mode": {
    "name": "ipython",
    "version": 3
   },
   "file_extension": ".py",
   "mimetype": "text/x-python",
   "name": "python",
   "nbconvert_exporter": "python",
   "pygments_lexer": "ipython3",
   "version": "3.8.10"
  },
  "orig_nbformat": 4,
  "vscode": {
   "interpreter": {
    "hash": "a76072e57cb99e830f08858204c12749db1ec5fb9144b5e7cedd260026f43c60"
   }
  }
 },
 "nbformat": 4,
 "nbformat_minor": 2
}
