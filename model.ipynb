{
 "cells": [
  {
   "cell_type": "code",
   "execution_count": 3,
   "metadata": {},
   "outputs": [],
   "source": [
    "%matplotlib inline\n",
    "import numpy as np\n",
    "import pandas as pd\n",
    "from tensorflow.keras.utils import to_categorical\n",
    "import matplotlib.pyplot as plt\n",
    "\n",
    "import tensorflow as tf\n",
    "import autokeras as ak"
   ]
  },
  {
   "cell_type": "code",
   "execution_count": 7,
   "metadata": {},
   "outputs": [
    {
     "ename": "TypeError",
     "evalue": "'float' object cannot be interpreted as an integer",
     "output_type": "error",
     "traceback": [
      "\u001b[1;31m---------------------------------------------------------------------------\u001b[0m",
      "\u001b[1;31mTypeError\u001b[0m                                 Traceback (most recent call last)",
      "Cell \u001b[1;32mIn [7], line 25\u001b[0m\n\u001b[0;32m     23\u001b[0m \u001b[39melif\u001b[39;00m (label \u001b[39min\u001b[39;00m [\u001b[39m\"\u001b[39m\u001b[39mspikes\u001b[39m\u001b[39m\"\u001b[39m, \u001b[39m\"\u001b[39m\u001b[39mshifted_spikes\u001b[39m\u001b[39m\"\u001b[39m]):\n\u001b[0;32m     24\u001b[0m     rep1 \u001b[39m=\u001b[39m rep \u001b[39m/\u001b[39m \u001b[39m2\u001b[39m\n\u001b[1;32m---> 25\u001b[0m data \u001b[39m=\u001b[39m get_simulated_data(label, rep\u001b[39m=\u001b[39;49mrep1, n_samples \u001b[39m=\u001b[39;49m n_samples, kwargs\u001b[39m=\u001b[39;49mkwargs)\n\u001b[0;32m     26\u001b[0m \u001b[39mfor\u001b[39;00m r \u001b[39min\u001b[39;00m \u001b[39mrange\u001b[39m(rep1):\n\u001b[0;32m     27\u001b[0m     X\u001b[39m.\u001b[39mappend(np\u001b[39m.\u001b[39msort(data[:,r]))\n",
      "File \u001b[1;32me:\\Repos\\BIAS\\BIAS\\SB_Test_runner.py:62\u001b[0m, in \u001b[0;36mget_simulated_data\u001b[1;34m(scen, rep, n_samples, kwargs)\u001b[0m\n\u001b[0;32m     60\u001b[0m     min_ \u001b[39m=\u001b[39m kwargs[\u001b[39m'\u001b[39m\u001b[39mmin\u001b[39m\u001b[39m'\u001b[39m]\n\u001b[0;32m     61\u001b[0m     max_ \u001b[39m=\u001b[39m kwargs[\u001b[39m'\u001b[39m\u001b[39mmax\u001b[39m\u001b[39m'\u001b[39m]\n\u001b[1;32m---> 62\u001b[0m     data_arr \u001b[39m=\u001b[39m np\u001b[39m.\u001b[39;49mrandom\u001b[39m.\u001b[39;49muniform(size\u001b[39m=\u001b[39;49m(n_samples, rep), low\u001b[39m=\u001b[39;49mmin_, high\u001b[39m=\u001b[39;49mmax_)\n\u001b[0;32m     63\u001b[0m \u001b[39melif\u001b[39;00m scen \u001b[39m==\u001b[39m \u001b[39m'\u001b[39m\u001b[39mspikes\u001b[39m\u001b[39m'\u001b[39m:\n\u001b[0;32m     64\u001b[0m     data_arr \u001b[39m=\u001b[39m np\u001b[39m.\u001b[39mrandom\u001b[39m.\u001b[39mrandint(kwargs[\u001b[39m'\u001b[39m\u001b[39mmax\u001b[39m\u001b[39m'\u001b[39m]\u001b[39m+\u001b[39m\u001b[39m1\u001b[39m, size\u001b[39m=\u001b[39m(n_samples,rep))\u001b[39m/\u001b[39mkwargs[\u001b[39m'\u001b[39m\u001b[39mmax\u001b[39m\u001b[39m'\u001b[39m]\n",
      "File \u001b[1;32mmtrand.pyx:1118\u001b[0m, in \u001b[0;36mnumpy.random.mtrand.RandomState.uniform\u001b[1;34m()\u001b[0m\n",
      "File \u001b[1;32m_common.pyx:598\u001b[0m, in \u001b[0;36mnumpy.random._common.cont\u001b[1;34m()\u001b[0m\n",
      "\u001b[1;31mTypeError\u001b[0m: 'float' object cannot be interpreted as an integer"
     ]
    }
   ],
   "source": [
    "#load data\n",
    "from BIAS.SB_Test_runner import get_scens_per_dim, get_simulated_data\n",
    "\n",
    "rep = 6000\n",
    "n_samples = 100\n",
    "\n",
    "scenes = get_scens_per_dim()\n",
    "X = []\n",
    "y = []\n",
    "for scene in scenes:\n",
    "    label = scene[0]\n",
    "    kwargs = scene[1]\n",
    "    if (label == \"unif\"):\n",
    "        rep1 = 5 * rep\n",
    "    elif (label in [\"trunc_unif\", \"cauchy\", \"norm\"]):\n",
    "        rep1 = int(rep / 3)\n",
    "    elif (label in [\"bound_thing\",\"inv_norm\", \"inv_cauchy\"]):\n",
    "        rep1 = int(rep / 3)\n",
    "    elif (label in [\"clusters\"]):\n",
    "        rep1 = rep\n",
    "    elif (label in [\"gaps\", \"part_unif\"]):\n",
    "        rep1 = int(rep / 2)\n",
    "    elif (label in [\"spikes\", \"shifted_spikes\"]):\n",
    "        rep1 = int(rep / 2)\n",
    "    data = get_simulated_data(label, rep=rep1, n_samples = n_samples, kwargs=kwargs)\n",
    "    for r in range(rep1):\n",
    "        X.append(np.sort(data[:,r]))\n",
    "    if (label in [\"trunc_unif\", \"cauchy\", \"norm\"]):\n",
    "        label = \"centre\"\n",
    "    elif (label in [\"bound_thing\",\"inv_norm\", \"inv_cauchy\"]):\n",
    "        label = \"bounds\"\n",
    "    elif (label in [\"clusters\"]):\n",
    "        label = \"cluster\"\n",
    "    elif (label in [\"gaps\", \"part_unif\"]):\n",
    "        label = \"gap\"\n",
    "    elif (label in [\"spikes\", \"shifted_spikes\"]):\n",
    "        label = \"disc\"\n",
    "    y.extend([label]*rep1)\n",
    "\n",
    "X = np.array(X)\n",
    "int_y, targetnames= pd.factorize(y)\n",
    "\n",
    "cat_y = to_categorical(int_y)"
   ]
  },
  {
   "cell_type": "code",
   "execution_count": 5,
   "metadata": {},
   "outputs": [
    {
     "name": "stdout",
     "output_type": "stream",
     "text": [
      "(148000, 100)\n",
      "(148000,)\n",
      "(148000, 6)\n",
      "['unif' 'centre' 'disc' 'bounds' 'gap' 'cluster']\n",
      "unif\n",
      "0\n",
      "[1. 0. 0. 0. 0. 0.]\n"
     ]
    }
   ],
   "source": [
    "\n",
    "print(X.shape)\n",
    "print(int_y.shape)\n",
    "print(cat_y.shape)\n",
    "\n",
    "print(targetnames)\n",
    "\n",
    "print(y[0])\n",
    "print(int_y[0])\n",
    "print(cat_y[0])\n"
   ]
  },
  {
   "cell_type": "code",
   "execution_count": 6,
   "metadata": {},
   "outputs": [
    {
     "name": "stdout",
     "output_type": "stream",
     "text": [
      "\n",
      "Search: Running Trial #1\n",
      "\n",
      "Value             |Best Value So Far |Hyperparameter\n",
      "True              |?                 |structured_data_block_1/normalize\n",
      "2                 |?                 |structured_data_block_1/dense_block_1/num_layers\n",
      "False             |?                 |structured_data_block_1/dense_block_1/use_batchnorm\n",
      "0                 |?                 |structured_data_block_1/dense_block_1/dropout\n",
      "32                |?                 |structured_data_block_1/dense_block_1/units_0\n",
      "32                |?                 |structured_data_block_1/dense_block_1/units_1\n",
      "0                 |?                 |classification_head_1/dropout\n",
      "adam              |?                 |optimizer\n",
      "0.001             |?                 |learning_rate\n",
      "\n",
      "Epoch 1/40\n",
      "2960/2960 [==============================] - 8s 2ms/step - loss: 0.9018 - accuracy: 0.6405 - val_loss: 0.8516 - val_accuracy: 0.6526\n",
      "Epoch 2/40\n",
      "2960/2960 [==============================] - 7s 2ms/step - loss: 0.8266 - accuracy: 0.6710 - val_loss: 0.8228 - val_accuracy: 0.6694\n",
      "Epoch 3/40\n",
      "2960/2960 [==============================] - 7s 2ms/step - loss: 0.8037 - accuracy: 0.6816 - val_loss: 0.8059 - val_accuracy: 0.6816\n",
      "Epoch 4/40\n",
      "2960/2960 [==============================] - 7s 2ms/step - loss: 0.7879 - accuracy: 0.6891 - val_loss: 0.7929 - val_accuracy: 0.6878\n",
      "Epoch 5/40\n",
      "2960/2960 [==============================] - 7s 2ms/step - loss: 0.7766 - accuracy: 0.6950 - val_loss: 0.7870 - val_accuracy: 0.6913\n",
      "Epoch 6/40\n",
      "2960/2960 [==============================] - 7s 2ms/step - loss: 0.7672 - accuracy: 0.7001 - val_loss: 0.7798 - val_accuracy: 0.6966\n",
      "Epoch 7/40\n",
      "2960/2960 [==============================] - 7s 2ms/step - loss: 0.7597 - accuracy: 0.7044 - val_loss: 0.7718 - val_accuracy: 0.7004\n",
      "Epoch 8/40\n",
      "2960/2960 [==============================] - 7s 2ms/step - loss: 0.7532 - accuracy: 0.7069 - val_loss: 0.7698 - val_accuracy: 0.7018\n",
      "Epoch 9/40\n",
      "2960/2960 [==============================] - 8s 3ms/step - loss: 0.7481 - accuracy: 0.7093 - val_loss: 0.7613 - val_accuracy: 0.7030\n",
      "Epoch 10/40\n",
      "2960/2960 [==============================] - 8s 3ms/step - loss: 0.7435 - accuracy: 0.7118 - val_loss: 0.7633 - val_accuracy: 0.7036\n",
      "Epoch 11/40\n",
      "2960/2960 [==============================] - 7s 2ms/step - loss: 0.7398 - accuracy: 0.7127 - val_loss: 0.7586 - val_accuracy: 0.7052\n",
      "Epoch 12/40\n",
      "2960/2960 [==============================] - 7s 2ms/step - loss: 0.7366 - accuracy: 0.7146 - val_loss: 0.7571 - val_accuracy: 0.7070\n",
      "Epoch 13/40\n",
      "2960/2960 [==============================] - 7s 2ms/step - loss: 0.7333 - accuracy: 0.7161 - val_loss: 0.7549 - val_accuracy: 0.7061\n",
      "Epoch 14/40\n",
      "2960/2960 [==============================] - 7s 2ms/step - loss: 0.7308 - accuracy: 0.7171 - val_loss: 0.7538 - val_accuracy: 0.7076\n",
      "Epoch 15/40\n",
      "2960/2960 [==============================] - 7s 2ms/step - loss: 0.7282 - accuracy: 0.7185 - val_loss: 0.7507 - val_accuracy: 0.7076\n",
      "Epoch 16/40\n",
      "2960/2960 [==============================] - 7s 2ms/step - loss: 0.7258 - accuracy: 0.7197 - val_loss: 0.7530 - val_accuracy: 0.7081\n",
      "Epoch 17/40\n",
      "2960/2960 [==============================] - 7s 2ms/step - loss: 0.7237 - accuracy: 0.7207 - val_loss: 0.7515 - val_accuracy: 0.7076\n",
      "Epoch 18/40\n",
      "2960/2960 [==============================] - 7s 2ms/step - loss: 0.7213 - accuracy: 0.7217 - val_loss: 0.7474 - val_accuracy: 0.7103\n",
      "Epoch 19/40\n",
      "2960/2960 [==============================] - 7s 2ms/step - loss: 0.7194 - accuracy: 0.7232 - val_loss: 0.7487 - val_accuracy: 0.7106\n",
      "Epoch 20/40\n",
      "2960/2960 [==============================] - 7s 2ms/step - loss: 0.7176 - accuracy: 0.7237 - val_loss: 0.7512 - val_accuracy: 0.7079\n",
      "Epoch 21/40\n",
      "2960/2960 [==============================] - 7s 2ms/step - loss: 0.7160 - accuracy: 0.7247 - val_loss: 0.7510 - val_accuracy: 0.7090\n",
      "Epoch 22/40\n",
      "2960/2960 [==============================] - 8s 3ms/step - loss: 0.7145 - accuracy: 0.7254 - val_loss: 0.7452 - val_accuracy: 0.7111\n",
      "Epoch 23/40\n",
      "2960/2960 [==============================] - 7s 2ms/step - loss: 0.7131 - accuracy: 0.7258 - val_loss: 0.7406 - val_accuracy: 0.7128\n",
      "Epoch 24/40\n",
      "2960/2960 [==============================] - 7s 2ms/step - loss: 0.7115 - accuracy: 0.7270 - val_loss: 0.7410 - val_accuracy: 0.7130\n",
      "Epoch 25/40\n",
      "2960/2960 [==============================] - 7s 3ms/step - loss: 0.7102 - accuracy: 0.7275 - val_loss: 0.7386 - val_accuracy: 0.7136\n",
      "Epoch 26/40\n",
      "2960/2960 [==============================] - 7s 2ms/step - loss: 0.7090 - accuracy: 0.7283 - val_loss: 0.7366 - val_accuracy: 0.7158\n",
      "Epoch 27/40\n",
      "2960/2960 [==============================] - 7s 2ms/step - loss: 0.7077 - accuracy: 0.7284 - val_loss: 0.7365 - val_accuracy: 0.7152\n",
      "Epoch 28/40\n",
      "2960/2960 [==============================] - 8s 3ms/step - loss: 0.7065 - accuracy: 0.7295 - val_loss: 0.7339 - val_accuracy: 0.7167\n",
      "Epoch 29/40\n",
      "2960/2960 [==============================] - 7s 2ms/step - loss: 0.7054 - accuracy: 0.7301 - val_loss: 0.7343 - val_accuracy: 0.7173\n",
      "Epoch 30/40\n",
      "2960/2960 [==============================] - 7s 2ms/step - loss: 0.7046 - accuracy: 0.7300 - val_loss: 0.7339 - val_accuracy: 0.7176\n",
      "Epoch 31/40\n",
      "2960/2960 [==============================] - 7s 2ms/step - loss: 0.7037 - accuracy: 0.7309 - val_loss: 0.7311 - val_accuracy: 0.7182\n",
      "Epoch 32/40\n",
      "2960/2960 [==============================] - 7s 2ms/step - loss: 0.7029 - accuracy: 0.7312 - val_loss: 0.7328 - val_accuracy: 0.7184\n",
      "Epoch 33/40\n",
      "2960/2960 [==============================] - 7s 2ms/step - loss: 0.7020 - accuracy: 0.7319 - val_loss: 0.7326 - val_accuracy: 0.7189\n",
      "Epoch 34/40\n",
      "2592/2960 [=========================>....] - ETA: 0s - loss: 0.6993 - accuracy: 0.7322"
     ]
    },
    {
     "ename": "KeyboardInterrupt",
     "evalue": "",
     "output_type": "error",
     "traceback": [
      "\u001b[1;31m---------------------------------------------------------------------------\u001b[0m",
      "\u001b[1;31mKeyboardInterrupt\u001b[0m                         Traceback (most recent call last)",
      "Cell \u001b[1;32mIn [6], line 14\u001b[0m\n\u001b[0;32m      9\u001b[0m \u001b[39m# Search for the best model with EarlyStopping.\u001b[39;00m\n\u001b[0;32m     10\u001b[0m cbs \u001b[39m=\u001b[39m [\n\u001b[0;32m     11\u001b[0m     tf\u001b[39m.\u001b[39mkeras\u001b[39m.\u001b[39mcallbacks\u001b[39m.\u001b[39mEarlyStopping(patience\u001b[39m=\u001b[39m\u001b[39m5\u001b[39m),\n\u001b[0;32m     12\u001b[0m ]\n\u001b[1;32m---> 14\u001b[0m clf\u001b[39m.\u001b[39;49mfit(\n\u001b[0;32m     15\u001b[0m     x\u001b[39m=\u001b[39;49mX_train,\n\u001b[0;32m     16\u001b[0m     y\u001b[39m=\u001b[39;49my_train,\n\u001b[0;32m     17\u001b[0m     epochs\u001b[39m=\u001b[39;49m\u001b[39m40\u001b[39;49m,\n\u001b[0;32m     18\u001b[0m     callbacks\u001b[39m=\u001b[39;49mcbs,\n\u001b[0;32m     19\u001b[0m )\n\u001b[0;32m     20\u001b[0m \u001b[39m# Evaluate on the testing data.\u001b[39;00m\n\u001b[0;32m     21\u001b[0m \u001b[39mprint\u001b[39m(\n\u001b[0;32m     22\u001b[0m     \u001b[39m\"\u001b[39m\u001b[39mAccuracy: \u001b[39m\u001b[39m{accuracy}\u001b[39;00m\u001b[39m\"\u001b[39m\u001b[39m.\u001b[39mformat(\n\u001b[0;32m     23\u001b[0m         accuracy\u001b[39m=\u001b[39mclf\u001b[39m.\u001b[39mevaluate(x\u001b[39m=\u001b[39mX_test, y\u001b[39m=\u001b[39my_test)\n\u001b[0;32m     24\u001b[0m     )\n\u001b[0;32m     25\u001b[0m )\n",
      "File \u001b[1;32me:\\Repos\\BIAS\\env\\lib\\site-packages\\autokeras\\tasks\\structured_data.py:326\u001b[0m, in \u001b[0;36mStructuredDataClassifier.fit\u001b[1;34m(self, x, y, epochs, callbacks, validation_split, validation_data, **kwargs)\u001b[0m\n\u001b[0;32m    279\u001b[0m \u001b[39mdef\u001b[39;00m \u001b[39mfit\u001b[39m(\n\u001b[0;32m    280\u001b[0m     \u001b[39mself\u001b[39m,\n\u001b[0;32m    281\u001b[0m     x\u001b[39m=\u001b[39m\u001b[39mNone\u001b[39;00m,\n\u001b[1;32m   (...)\u001b[0m\n\u001b[0;32m    287\u001b[0m     \u001b[39m*\u001b[39m\u001b[39m*\u001b[39mkwargs\n\u001b[0;32m    288\u001b[0m ):\n\u001b[0;32m    289\u001b[0m     \u001b[39m\"\"\"Search for the best model and hyperparameters for the AutoModel.\u001b[39;00m\n\u001b[0;32m    290\u001b[0m \n\u001b[0;32m    291\u001b[0m \u001b[39m    # Arguments\u001b[39;00m\n\u001b[1;32m   (...)\u001b[0m\n\u001b[0;32m    324\u001b[0m \u001b[39m            validation loss values and validation metrics values (if applicable).\u001b[39;00m\n\u001b[0;32m    325\u001b[0m \u001b[39m    \"\"\"\u001b[39;00m\n\u001b[1;32m--> 326\u001b[0m     history \u001b[39m=\u001b[39m \u001b[39msuper\u001b[39m()\u001b[39m.\u001b[39mfit(\n\u001b[0;32m    327\u001b[0m         x\u001b[39m=\u001b[39mx,\n\u001b[0;32m    328\u001b[0m         y\u001b[39m=\u001b[39my,\n\u001b[0;32m    329\u001b[0m         epochs\u001b[39m=\u001b[39mepochs,\n\u001b[0;32m    330\u001b[0m         callbacks\u001b[39m=\u001b[39mcallbacks,\n\u001b[0;32m    331\u001b[0m         validation_split\u001b[39m=\u001b[39mvalidation_split,\n\u001b[0;32m    332\u001b[0m         validation_data\u001b[39m=\u001b[39mvalidation_data,\n\u001b[0;32m    333\u001b[0m         \u001b[39m*\u001b[39m\u001b[39m*\u001b[39mkwargs\n\u001b[0;32m    334\u001b[0m     )\n\u001b[0;32m    335\u001b[0m     \u001b[39mreturn\u001b[39;00m history\n",
      "File \u001b[1;32me:\\Repos\\BIAS\\env\\lib\\site-packages\\autokeras\\tasks\\structured_data.py:139\u001b[0m, in \u001b[0;36mBaseStructuredDataPipeline.fit\u001b[1;34m(self, x, y, epochs, callbacks, validation_split, validation_data, **kwargs)\u001b[0m\n\u001b[0;32m    135\u001b[0m         validation_data \u001b[39m=\u001b[39m \u001b[39mself\u001b[39m\u001b[39m.\u001b[39m_read_from_csv(x_val, y_val)\n\u001b[0;32m    137\u001b[0m \u001b[39mself\u001b[39m\u001b[39m.\u001b[39mcheck_in_fit(x)\n\u001b[1;32m--> 139\u001b[0m history \u001b[39m=\u001b[39m \u001b[39msuper\u001b[39m()\u001b[39m.\u001b[39mfit(\n\u001b[0;32m    140\u001b[0m     x\u001b[39m=\u001b[39mx,\n\u001b[0;32m    141\u001b[0m     y\u001b[39m=\u001b[39my,\n\u001b[0;32m    142\u001b[0m     epochs\u001b[39m=\u001b[39mepochs,\n\u001b[0;32m    143\u001b[0m     callbacks\u001b[39m=\u001b[39mcallbacks,\n\u001b[0;32m    144\u001b[0m     validation_split\u001b[39m=\u001b[39mvalidation_split,\n\u001b[0;32m    145\u001b[0m     validation_data\u001b[39m=\u001b[39mvalidation_data,\n\u001b[0;32m    146\u001b[0m     \u001b[39m*\u001b[39m\u001b[39m*\u001b[39mkwargs\n\u001b[0;32m    147\u001b[0m )\n\u001b[0;32m    148\u001b[0m \u001b[39mreturn\u001b[39;00m history\n",
      "File \u001b[1;32me:\\Repos\\BIAS\\env\\lib\\site-packages\\autokeras\\auto_model.py:292\u001b[0m, in \u001b[0;36mAutoModel.fit\u001b[1;34m(self, x, y, batch_size, epochs, callbacks, validation_split, validation_data, verbose, **kwargs)\u001b[0m\n\u001b[0;32m    287\u001b[0m \u001b[39mif\u001b[39;00m validation_data \u001b[39mis\u001b[39;00m \u001b[39mNone\u001b[39;00m \u001b[39mand\u001b[39;00m validation_split:\n\u001b[0;32m    288\u001b[0m     dataset, validation_data \u001b[39m=\u001b[39m data_utils\u001b[39m.\u001b[39msplit_dataset(\n\u001b[0;32m    289\u001b[0m         dataset, validation_split\n\u001b[0;32m    290\u001b[0m     )\n\u001b[1;32m--> 292\u001b[0m history \u001b[39m=\u001b[39m \u001b[39mself\u001b[39m\u001b[39m.\u001b[39mtuner\u001b[39m.\u001b[39msearch(\n\u001b[0;32m    293\u001b[0m     x\u001b[39m=\u001b[39mdataset,\n\u001b[0;32m    294\u001b[0m     epochs\u001b[39m=\u001b[39mepochs,\n\u001b[0;32m    295\u001b[0m     callbacks\u001b[39m=\u001b[39mcallbacks,\n\u001b[0;32m    296\u001b[0m     validation_data\u001b[39m=\u001b[39mvalidation_data,\n\u001b[0;32m    297\u001b[0m     validation_split\u001b[39m=\u001b[39mvalidation_split,\n\u001b[0;32m    298\u001b[0m     verbose\u001b[39m=\u001b[39mverbose,\n\u001b[0;32m    299\u001b[0m     \u001b[39m*\u001b[39m\u001b[39m*\u001b[39mkwargs\n\u001b[0;32m    300\u001b[0m )\n\u001b[0;32m    302\u001b[0m \u001b[39mreturn\u001b[39;00m history\n",
      "File \u001b[1;32me:\\Repos\\BIAS\\env\\lib\\site-packages\\autokeras\\engine\\tuner.py:193\u001b[0m, in \u001b[0;36mAutoTuner.search\u001b[1;34m(self, epochs, callbacks, validation_split, verbose, **fit_kwargs)\u001b[0m\n\u001b[0;32m    191\u001b[0m \u001b[39mself\u001b[39m\u001b[39m.\u001b[39m_try_build(hp)\n\u001b[0;32m    192\u001b[0m \u001b[39mself\u001b[39m\u001b[39m.\u001b[39moracle\u001b[39m.\u001b[39mupdate_space(hp)\n\u001b[1;32m--> 193\u001b[0m \u001b[39msuper\u001b[39m()\u001b[39m.\u001b[39msearch(\n\u001b[0;32m    194\u001b[0m     epochs\u001b[39m=\u001b[39mepochs, callbacks\u001b[39m=\u001b[39mnew_callbacks, verbose\u001b[39m=\u001b[39mverbose, \u001b[39m*\u001b[39m\u001b[39m*\u001b[39mfit_kwargs\n\u001b[0;32m    195\u001b[0m )\n\u001b[0;32m    197\u001b[0m \u001b[39m# Train the best model use validation data.\u001b[39;00m\n\u001b[0;32m    198\u001b[0m \u001b[39m# Train the best model with enough number of epochs.\u001b[39;00m\n\u001b[0;32m    199\u001b[0m \u001b[39mif\u001b[39;00m validation_split \u001b[39m>\u001b[39m \u001b[39m0\u001b[39m \u001b[39mor\u001b[39;00m early_stopping_inserted:\n",
      "File \u001b[1;32me:\\Repos\\BIAS\\env\\lib\\site-packages\\keras_tuner\\engine\\base_tuner.py:183\u001b[0m, in \u001b[0;36mBaseTuner.search\u001b[1;34m(self, *fit_args, **fit_kwargs)\u001b[0m\n\u001b[0;32m    180\u001b[0m     \u001b[39mcontinue\u001b[39;00m\n\u001b[0;32m    182\u001b[0m \u001b[39mself\u001b[39m\u001b[39m.\u001b[39mon_trial_begin(trial)\n\u001b[1;32m--> 183\u001b[0m results \u001b[39m=\u001b[39m \u001b[39mself\u001b[39m\u001b[39m.\u001b[39mrun_trial(trial, \u001b[39m*\u001b[39mfit_args, \u001b[39m*\u001b[39m\u001b[39m*\u001b[39mfit_kwargs)\n\u001b[0;32m    184\u001b[0m \u001b[39m# `results` is None indicates user updated oracle in `run_trial()`.\u001b[39;00m\n\u001b[0;32m    185\u001b[0m \u001b[39mif\u001b[39;00m results \u001b[39mis\u001b[39;00m \u001b[39mNone\u001b[39;00m:\n",
      "File \u001b[1;32me:\\Repos\\BIAS\\env\\lib\\site-packages\\keras_tuner\\engine\\tuner.py:295\u001b[0m, in \u001b[0;36mTuner.run_trial\u001b[1;34m(self, trial, *args, **kwargs)\u001b[0m\n\u001b[0;32m    293\u001b[0m     callbacks\u001b[39m.\u001b[39mappend(model_checkpoint)\n\u001b[0;32m    294\u001b[0m     copied_kwargs[\u001b[39m\"\u001b[39m\u001b[39mcallbacks\u001b[39m\u001b[39m\"\u001b[39m] \u001b[39m=\u001b[39m callbacks\n\u001b[1;32m--> 295\u001b[0m     obj_value \u001b[39m=\u001b[39m \u001b[39mself\u001b[39m\u001b[39m.\u001b[39m_build_and_fit_model(trial, \u001b[39m*\u001b[39margs, \u001b[39m*\u001b[39m\u001b[39m*\u001b[39mcopied_kwargs)\n\u001b[0;32m    297\u001b[0m     histories\u001b[39m.\u001b[39mappend(obj_value)\n\u001b[0;32m    298\u001b[0m \u001b[39mreturn\u001b[39;00m histories\n",
      "File \u001b[1;32me:\\Repos\\BIAS\\env\\lib\\site-packages\\autokeras\\engine\\tuner.py:101\u001b[0m, in \u001b[0;36mAutoTuner._build_and_fit_model\u001b[1;34m(self, trial, *args, **kwargs)\u001b[0m\n\u001b[0;32m     97\u001b[0m pipeline\u001b[39m.\u001b[39msave(\u001b[39mself\u001b[39m\u001b[39m.\u001b[39m_pipeline_path(trial\u001b[39m.\u001b[39mtrial_id))\n\u001b[0;32m     99\u001b[0m \u001b[39mself\u001b[39m\u001b[39m.\u001b[39madapt(model, kwargs[\u001b[39m\"\u001b[39m\u001b[39mx\u001b[39m\u001b[39m\"\u001b[39m])\n\u001b[1;32m--> 101\u001b[0m _, history \u001b[39m=\u001b[39m utils\u001b[39m.\u001b[39mfit_with_adaptive_batch_size(\n\u001b[0;32m    102\u001b[0m     model, \u001b[39mself\u001b[39m\u001b[39m.\u001b[39mhypermodel\u001b[39m.\u001b[39mbatch_size, \u001b[39m*\u001b[39m\u001b[39m*\u001b[39mkwargs\n\u001b[0;32m    103\u001b[0m )\n\u001b[0;32m    104\u001b[0m \u001b[39mreturn\u001b[39;00m history\n",
      "File \u001b[1;32me:\\Repos\\BIAS\\env\\lib\\site-packages\\autokeras\\utils\\utils.py:88\u001b[0m, in \u001b[0;36mfit_with_adaptive_batch_size\u001b[1;34m(model, batch_size, **fit_kwargs)\u001b[0m\n\u001b[0;32m     87\u001b[0m \u001b[39mdef\u001b[39;00m \u001b[39mfit_with_adaptive_batch_size\u001b[39m(model, batch_size, \u001b[39m*\u001b[39m\u001b[39m*\u001b[39mfit_kwargs):\n\u001b[1;32m---> 88\u001b[0m     history \u001b[39m=\u001b[39m run_with_adaptive_batch_size(\n\u001b[0;32m     89\u001b[0m         batch_size, \u001b[39mlambda\u001b[39;00m \u001b[39m*\u001b[39m\u001b[39m*\u001b[39mkwargs: model\u001b[39m.\u001b[39mfit(\u001b[39m*\u001b[39m\u001b[39m*\u001b[39mkwargs), \u001b[39m*\u001b[39m\u001b[39m*\u001b[39mfit_kwargs\n\u001b[0;32m     90\u001b[0m     )\n\u001b[0;32m     91\u001b[0m     \u001b[39mreturn\u001b[39;00m model, history\n",
      "File \u001b[1;32me:\\Repos\\BIAS\\env\\lib\\site-packages\\autokeras\\utils\\utils.py:101\u001b[0m, in \u001b[0;36mrun_with_adaptive_batch_size\u001b[1;34m(batch_size, func, **fit_kwargs)\u001b[0m\n\u001b[0;32m     99\u001b[0m \u001b[39mwhile\u001b[39;00m batch_size \u001b[39m>\u001b[39m \u001b[39m0\u001b[39m:\n\u001b[0;32m    100\u001b[0m     \u001b[39mtry\u001b[39;00m:\n\u001b[1;32m--> 101\u001b[0m         history \u001b[39m=\u001b[39m func(x\u001b[39m=\u001b[39mx, validation_data\u001b[39m=\u001b[39mvalidation_data, \u001b[39m*\u001b[39m\u001b[39m*\u001b[39mfit_kwargs)\n\u001b[0;32m    102\u001b[0m         \u001b[39mbreak\u001b[39;00m\n\u001b[0;32m    103\u001b[0m     \u001b[39mexcept\u001b[39;00m tf\u001b[39m.\u001b[39merrors\u001b[39m.\u001b[39mResourceExhaustedError \u001b[39mas\u001b[39;00m e:\n",
      "File \u001b[1;32me:\\Repos\\BIAS\\env\\lib\\site-packages\\autokeras\\utils\\utils.py:89\u001b[0m, in \u001b[0;36mfit_with_adaptive_batch_size.<locals>.<lambda>\u001b[1;34m(**kwargs)\u001b[0m\n\u001b[0;32m     87\u001b[0m \u001b[39mdef\u001b[39;00m \u001b[39mfit_with_adaptive_batch_size\u001b[39m(model, batch_size, \u001b[39m*\u001b[39m\u001b[39m*\u001b[39mfit_kwargs):\n\u001b[0;32m     88\u001b[0m     history \u001b[39m=\u001b[39m run_with_adaptive_batch_size(\n\u001b[1;32m---> 89\u001b[0m         batch_size, \u001b[39mlambda\u001b[39;00m \u001b[39m*\u001b[39m\u001b[39m*\u001b[39mkwargs: model\u001b[39m.\u001b[39mfit(\u001b[39m*\u001b[39m\u001b[39m*\u001b[39mkwargs), \u001b[39m*\u001b[39m\u001b[39m*\u001b[39mfit_kwargs\n\u001b[0;32m     90\u001b[0m     )\n\u001b[0;32m     91\u001b[0m     \u001b[39mreturn\u001b[39;00m model, history\n",
      "File \u001b[1;32me:\\Repos\\BIAS\\env\\lib\\site-packages\\keras\\utils\\traceback_utils.py:65\u001b[0m, in \u001b[0;36mfilter_traceback.<locals>.error_handler\u001b[1;34m(*args, **kwargs)\u001b[0m\n\u001b[0;32m     63\u001b[0m filtered_tb \u001b[39m=\u001b[39m \u001b[39mNone\u001b[39;00m\n\u001b[0;32m     64\u001b[0m \u001b[39mtry\u001b[39;00m:\n\u001b[1;32m---> 65\u001b[0m     \u001b[39mreturn\u001b[39;00m fn(\u001b[39m*\u001b[39margs, \u001b[39m*\u001b[39m\u001b[39m*\u001b[39mkwargs)\n\u001b[0;32m     66\u001b[0m \u001b[39mexcept\u001b[39;00m \u001b[39mException\u001b[39;00m \u001b[39mas\u001b[39;00m e:\n\u001b[0;32m     67\u001b[0m     filtered_tb \u001b[39m=\u001b[39m _process_traceback_frames(e\u001b[39m.\u001b[39m__traceback__)\n",
      "File \u001b[1;32me:\\Repos\\BIAS\\env\\lib\\site-packages\\keras\\engine\\training.py:1564\u001b[0m, in \u001b[0;36mModel.fit\u001b[1;34m(self, x, y, batch_size, epochs, verbose, callbacks, validation_split, validation_data, shuffle, class_weight, sample_weight, initial_epoch, steps_per_epoch, validation_steps, validation_batch_size, validation_freq, max_queue_size, workers, use_multiprocessing)\u001b[0m\n\u001b[0;32m   1556\u001b[0m \u001b[39mwith\u001b[39;00m tf\u001b[39m.\u001b[39mprofiler\u001b[39m.\u001b[39mexperimental\u001b[39m.\u001b[39mTrace(\n\u001b[0;32m   1557\u001b[0m     \u001b[39m\"\u001b[39m\u001b[39mtrain\u001b[39m\u001b[39m\"\u001b[39m,\n\u001b[0;32m   1558\u001b[0m     epoch_num\u001b[39m=\u001b[39mepoch,\n\u001b[1;32m   (...)\u001b[0m\n\u001b[0;32m   1561\u001b[0m     _r\u001b[39m=\u001b[39m\u001b[39m1\u001b[39m,\n\u001b[0;32m   1562\u001b[0m ):\n\u001b[0;32m   1563\u001b[0m     callbacks\u001b[39m.\u001b[39mon_train_batch_begin(step)\n\u001b[1;32m-> 1564\u001b[0m     tmp_logs \u001b[39m=\u001b[39m \u001b[39mself\u001b[39;49m\u001b[39m.\u001b[39;49mtrain_function(iterator)\n\u001b[0;32m   1565\u001b[0m     \u001b[39mif\u001b[39;00m data_handler\u001b[39m.\u001b[39mshould_sync:\n\u001b[0;32m   1566\u001b[0m         context\u001b[39m.\u001b[39masync_wait()\n",
      "File \u001b[1;32me:\\Repos\\BIAS\\env\\lib\\site-packages\\tensorflow\\python\\util\\traceback_utils.py:150\u001b[0m, in \u001b[0;36mfilter_traceback.<locals>.error_handler\u001b[1;34m(*args, **kwargs)\u001b[0m\n\u001b[0;32m    148\u001b[0m filtered_tb \u001b[39m=\u001b[39m \u001b[39mNone\u001b[39;00m\n\u001b[0;32m    149\u001b[0m \u001b[39mtry\u001b[39;00m:\n\u001b[1;32m--> 150\u001b[0m   \u001b[39mreturn\u001b[39;00m fn(\u001b[39m*\u001b[39margs, \u001b[39m*\u001b[39m\u001b[39m*\u001b[39mkwargs)\n\u001b[0;32m    151\u001b[0m \u001b[39mexcept\u001b[39;00m \u001b[39mException\u001b[39;00m \u001b[39mas\u001b[39;00m e:\n\u001b[0;32m    152\u001b[0m   filtered_tb \u001b[39m=\u001b[39m _process_traceback_frames(e\u001b[39m.\u001b[39m__traceback__)\n",
      "File \u001b[1;32me:\\Repos\\BIAS\\env\\lib\\site-packages\\tensorflow\\python\\eager\\def_function.py:915\u001b[0m, in \u001b[0;36mFunction.__call__\u001b[1;34m(self, *args, **kwds)\u001b[0m\n\u001b[0;32m    912\u001b[0m compiler \u001b[39m=\u001b[39m \u001b[39m\"\u001b[39m\u001b[39mxla\u001b[39m\u001b[39m\"\u001b[39m \u001b[39mif\u001b[39;00m \u001b[39mself\u001b[39m\u001b[39m.\u001b[39m_jit_compile \u001b[39melse\u001b[39;00m \u001b[39m\"\u001b[39m\u001b[39mnonXla\u001b[39m\u001b[39m\"\u001b[39m\n\u001b[0;32m    914\u001b[0m \u001b[39mwith\u001b[39;00m OptionalXlaContext(\u001b[39mself\u001b[39m\u001b[39m.\u001b[39m_jit_compile):\n\u001b[1;32m--> 915\u001b[0m   result \u001b[39m=\u001b[39m \u001b[39mself\u001b[39m\u001b[39m.\u001b[39m_call(\u001b[39m*\u001b[39margs, \u001b[39m*\u001b[39m\u001b[39m*\u001b[39mkwds)\n\u001b[0;32m    917\u001b[0m new_tracing_count \u001b[39m=\u001b[39m \u001b[39mself\u001b[39m\u001b[39m.\u001b[39mexperimental_get_tracing_count()\n\u001b[0;32m    918\u001b[0m without_tracing \u001b[39m=\u001b[39m (tracing_count \u001b[39m==\u001b[39m new_tracing_count)\n",
      "File \u001b[1;32me:\\Repos\\BIAS\\env\\lib\\site-packages\\tensorflow\\python\\eager\\def_function.py:947\u001b[0m, in \u001b[0;36mFunction._call\u001b[1;34m(self, *args, **kwds)\u001b[0m\n\u001b[0;32m    944\u001b[0m   \u001b[39mself\u001b[39m\u001b[39m.\u001b[39m_lock\u001b[39m.\u001b[39mrelease()\n\u001b[0;32m    945\u001b[0m   \u001b[39m# In this case we have created variables on the first call, so we run the\u001b[39;00m\n\u001b[0;32m    946\u001b[0m   \u001b[39m# defunned version which is guaranteed to never create variables.\u001b[39;00m\n\u001b[1;32m--> 947\u001b[0m   \u001b[39mreturn\u001b[39;00m \u001b[39mself\u001b[39m\u001b[39m.\u001b[39m_stateless_fn(\u001b[39m*\u001b[39margs, \u001b[39m*\u001b[39m\u001b[39m*\u001b[39mkwds)  \u001b[39m# pylint: disable=not-callable\u001b[39;00m\n\u001b[0;32m    948\u001b[0m \u001b[39melif\u001b[39;00m \u001b[39mself\u001b[39m\u001b[39m.\u001b[39m_stateful_fn \u001b[39mis\u001b[39;00m \u001b[39mnot\u001b[39;00m \u001b[39mNone\u001b[39;00m:\n\u001b[0;32m    949\u001b[0m   \u001b[39m# Release the lock early so that multiple threads can perform the call\u001b[39;00m\n\u001b[0;32m    950\u001b[0m   \u001b[39m# in parallel.\u001b[39;00m\n\u001b[0;32m    951\u001b[0m   \u001b[39mself\u001b[39m\u001b[39m.\u001b[39m_lock\u001b[39m.\u001b[39mrelease()\n",
      "File \u001b[1;32me:\\Repos\\BIAS\\env\\lib\\site-packages\\tensorflow\\python\\eager\\function.py:2496\u001b[0m, in \u001b[0;36mFunction.__call__\u001b[1;34m(self, *args, **kwargs)\u001b[0m\n\u001b[0;32m   2493\u001b[0m \u001b[39mwith\u001b[39;00m \u001b[39mself\u001b[39m\u001b[39m.\u001b[39m_lock:\n\u001b[0;32m   2494\u001b[0m   (graph_function,\n\u001b[0;32m   2495\u001b[0m    filtered_flat_args) \u001b[39m=\u001b[39m \u001b[39mself\u001b[39m\u001b[39m.\u001b[39m_maybe_define_function(args, kwargs)\n\u001b[1;32m-> 2496\u001b[0m \u001b[39mreturn\u001b[39;00m graph_function\u001b[39m.\u001b[39;49m_call_flat(\n\u001b[0;32m   2497\u001b[0m     filtered_flat_args, captured_inputs\u001b[39m=\u001b[39;49mgraph_function\u001b[39m.\u001b[39;49mcaptured_inputs)\n",
      "File \u001b[1;32me:\\Repos\\BIAS\\env\\lib\\site-packages\\tensorflow\\python\\eager\\function.py:1862\u001b[0m, in \u001b[0;36mConcreteFunction._call_flat\u001b[1;34m(self, args, captured_inputs, cancellation_manager)\u001b[0m\n\u001b[0;32m   1858\u001b[0m possible_gradient_type \u001b[39m=\u001b[39m gradients_util\u001b[39m.\u001b[39mPossibleTapeGradientTypes(args)\n\u001b[0;32m   1859\u001b[0m \u001b[39mif\u001b[39;00m (possible_gradient_type \u001b[39m==\u001b[39m gradients_util\u001b[39m.\u001b[39mPOSSIBLE_GRADIENT_TYPES_NONE\n\u001b[0;32m   1860\u001b[0m     \u001b[39mand\u001b[39;00m executing_eagerly):\n\u001b[0;32m   1861\u001b[0m   \u001b[39m# No tape is watching; skip to running the function.\u001b[39;00m\n\u001b[1;32m-> 1862\u001b[0m   \u001b[39mreturn\u001b[39;00m \u001b[39mself\u001b[39m\u001b[39m.\u001b[39m_build_call_outputs(\u001b[39mself\u001b[39;49m\u001b[39m.\u001b[39;49m_inference_function\u001b[39m.\u001b[39;49mcall(\n\u001b[0;32m   1863\u001b[0m       ctx, args, cancellation_manager\u001b[39m=\u001b[39;49mcancellation_manager))\n\u001b[0;32m   1864\u001b[0m forward_backward \u001b[39m=\u001b[39m \u001b[39mself\u001b[39m\u001b[39m.\u001b[39m_select_forward_and_backward_functions(\n\u001b[0;32m   1865\u001b[0m     args,\n\u001b[0;32m   1866\u001b[0m     possible_gradient_type,\n\u001b[0;32m   1867\u001b[0m     executing_eagerly)\n\u001b[0;32m   1868\u001b[0m forward_function, args_with_tangents \u001b[39m=\u001b[39m forward_backward\u001b[39m.\u001b[39mforward()\n",
      "File \u001b[1;32me:\\Repos\\BIAS\\env\\lib\\site-packages\\tensorflow\\python\\eager\\function.py:499\u001b[0m, in \u001b[0;36m_EagerDefinedFunction.call\u001b[1;34m(self, ctx, args, cancellation_manager)\u001b[0m\n\u001b[0;32m    497\u001b[0m \u001b[39mwith\u001b[39;00m _InterpolateFunctionError(\u001b[39mself\u001b[39m):\n\u001b[0;32m    498\u001b[0m   \u001b[39mif\u001b[39;00m cancellation_manager \u001b[39mis\u001b[39;00m \u001b[39mNone\u001b[39;00m:\n\u001b[1;32m--> 499\u001b[0m     outputs \u001b[39m=\u001b[39m execute\u001b[39m.\u001b[39;49mexecute(\n\u001b[0;32m    500\u001b[0m         \u001b[39mstr\u001b[39;49m(\u001b[39mself\u001b[39;49m\u001b[39m.\u001b[39;49msignature\u001b[39m.\u001b[39;49mname),\n\u001b[0;32m    501\u001b[0m         num_outputs\u001b[39m=\u001b[39;49m\u001b[39mself\u001b[39;49m\u001b[39m.\u001b[39;49m_num_outputs,\n\u001b[0;32m    502\u001b[0m         inputs\u001b[39m=\u001b[39;49margs,\n\u001b[0;32m    503\u001b[0m         attrs\u001b[39m=\u001b[39;49mattrs,\n\u001b[0;32m    504\u001b[0m         ctx\u001b[39m=\u001b[39;49mctx)\n\u001b[0;32m    505\u001b[0m   \u001b[39melse\u001b[39;00m:\n\u001b[0;32m    506\u001b[0m     outputs \u001b[39m=\u001b[39m execute\u001b[39m.\u001b[39mexecute_with_cancellation(\n\u001b[0;32m    507\u001b[0m         \u001b[39mstr\u001b[39m(\u001b[39mself\u001b[39m\u001b[39m.\u001b[39msignature\u001b[39m.\u001b[39mname),\n\u001b[0;32m    508\u001b[0m         num_outputs\u001b[39m=\u001b[39m\u001b[39mself\u001b[39m\u001b[39m.\u001b[39m_num_outputs,\n\u001b[1;32m   (...)\u001b[0m\n\u001b[0;32m    511\u001b[0m         ctx\u001b[39m=\u001b[39mctx,\n\u001b[0;32m    512\u001b[0m         cancellation_manager\u001b[39m=\u001b[39mcancellation_manager)\n",
      "File \u001b[1;32me:\\Repos\\BIAS\\env\\lib\\site-packages\\tensorflow\\python\\eager\\execute.py:54\u001b[0m, in \u001b[0;36mquick_execute\u001b[1;34m(op_name, num_outputs, inputs, attrs, ctx, name)\u001b[0m\n\u001b[0;32m     52\u001b[0m \u001b[39mtry\u001b[39;00m:\n\u001b[0;32m     53\u001b[0m   ctx\u001b[39m.\u001b[39mensure_initialized()\n\u001b[1;32m---> 54\u001b[0m   tensors \u001b[39m=\u001b[39m pywrap_tfe\u001b[39m.\u001b[39;49mTFE_Py_Execute(ctx\u001b[39m.\u001b[39;49m_handle, device_name, op_name,\n\u001b[0;32m     55\u001b[0m                                       inputs, attrs, num_outputs)\n\u001b[0;32m     56\u001b[0m \u001b[39mexcept\u001b[39;00m core\u001b[39m.\u001b[39m_NotOkStatusException \u001b[39mas\u001b[39;00m e:\n\u001b[0;32m     57\u001b[0m   \u001b[39mif\u001b[39;00m name \u001b[39mis\u001b[39;00m \u001b[39mnot\u001b[39;00m \u001b[39mNone\u001b[39;00m:\n",
      "\u001b[1;31mKeyboardInterrupt\u001b[0m: "
     ]
    }
   ],
   "source": [
    "from sklearn.model_selection import train_test_split\n",
    "\n",
    "X_train, X_test, y_train, y_test = train_test_split(X, cat_y, test_size=0.2, random_state=42, stratify=int_y)\n",
    "\n",
    "clf = ak.StructuredDataClassifier(\n",
    "    max_trials=20,\n",
    "    overwrite=True,\n",
    ")\n",
    "# Search for the best model with EarlyStopping.\n",
    "cbs = [\n",
    "    tf.keras.callbacks.EarlyStopping(patience=5),\n",
    "]\n",
    "\n",
    "clf.fit(\n",
    "    x=X_train,\n",
    "    y=y_train,\n",
    "    epochs=40,\n",
    "    callbacks=cbs,\n",
    ")\n",
    "# Evaluate on the testing data.\n",
    "print(\n",
    "    \"Accuracy: {accuracy}\".format(\n",
    "        accuracy=clf.evaluate(x=X_test, y=y_test)\n",
    "    )\n",
    ")\n",
    "\n",
    "#interesting option from autokeras.image.image_supervised import ImageClassifier1D\n",
    "#model = ImageClassifier1D(verbose=True)\n",
    "\n",
    "#X_train = np.expand_dims(X, axis=2)\n",
    "#model.fit(X_train, Y, time_limit=1 * 60 * 60)"
   ]
  },
  {
   "cell_type": "code",
   "execution_count": null,
   "metadata": {},
   "outputs": [
    {
     "name": "stdout",
     "output_type": "stream",
     "text": [
      "Model: \"model\"\n",
      "_________________________________________________________________\n",
      "Layer (type)                 Output Shape              Param #   \n",
      "=================================================================\n",
      "input_1 (InputLayer)         [(None, 100)]             0         \n",
      "_________________________________________________________________\n",
      "multi_category_encoding (Mul (None, 100)               0         \n",
      "_________________________________________________________________\n",
      "normalization (Normalization (None, 100)               201       \n",
      "_________________________________________________________________\n",
      "dense (Dense)                (None, 512)               51712     \n",
      "_________________________________________________________________\n",
      "re_lu (ReLU)                 (None, 512)               0         \n",
      "_________________________________________________________________\n",
      "dense_1 (Dense)              (None, 32)                16416     \n",
      "_________________________________________________________________\n",
      "re_lu_1 (ReLU)               (None, 32)                0         \n",
      "_________________________________________________________________\n",
      "dense_2 (Dense)              (None, 6)                 198       \n",
      "_________________________________________________________________\n",
      "classification_head_1 (Softm (None, 6)                 0         \n",
      "=================================================================\n",
      "Total params: 68,527\n",
      "Trainable params: 68,326\n",
      "Non-trainable params: 201\n",
      "_________________________________________________________________\n"
     ]
    }
   ],
   "source": [
    "model = clf.export_model()\n",
    "model.summary()\n",
    "model.save(\"model_new_data.h5\")"
   ]
  },
  {
   "cell_type": "code",
   "execution_count": null,
   "metadata": {},
   "outputs": [],
   "source": [
    "from sklearn.metrics import plot_confusion_matrix\n",
    "from sklearn.neural_network import MLPClassifier\n",
    "class newmodel(MLPClassifier):\n",
    "    def __init__(self, model):\n",
    "        self.model = model\n",
    "    def predict(self, X):\n",
    "        y = self.model.predict(X)\n",
    "        return np.argmax(y, axis=1)\n"
   ]
  },
  {
   "cell_type": "code",
   "execution_count": null,
   "metadata": {},
   "outputs": [
    {
     "data": {
      "image/png": "[encoded data removed]",
      "text/plain": [
       "<Figure size 1008x1008 with 2 Axes>"
      ]
     },
     "metadata": {
      "needs_background": "light"
     },
     "output_type": "display_data"
    }
   ],
   "source": [
    "model1 = newmodel(model)\n",
    "fig, ax = plt.subplots(figsize=(14, 14))\n",
    "plot_confusion_matrix(model1, X_test, np.argmax(y_test, axis=1), normalize='true', xticks_rotation = 'vertical', display_labels = list(np.unique(targetnames)), ax=ax) \n",
    "plt.show()"
   ]
  },
  {
   "cell_type": "code",
   "execution_count": 9,
   "metadata": {},
   "outputs": [
    {
     "name": "stdout",
     "output_type": "stream",
     "text": [
      "[5 3 4 4 0 4 0 3 0 0]\n",
      "[[0. 0. 0. 0. 0. 1.]\n",
      " [0. 0. 0. 1. 0. 0.]\n",
      " [0. 0. 0. 0. 1. 0.]\n",
      " [0. 0. 0. 0. 1. 0.]\n",
      " [1. 0. 0. 0. 0. 0.]\n",
      " [0. 0. 0. 0. 1. 0.]\n",
      " [1. 0. 0. 0. 0. 0.]\n",
      " [0. 0. 1. 0. 0. 0.]\n",
      " [1. 0. 0. 0. 0. 0.]\n",
      " [1. 0. 0. 0. 0. 0.]]\n"
     ]
    }
   ],
   "source": [
    "y_hat = model1.predict(X_test[:10])\n",
    "print(y_hat)\n",
    "print(y_test[:10])"
   ]
  },
  {
   "cell_type": "code",
   "execution_count": null,
   "metadata": {},
   "outputs": [],
   "source": []
  }
 ],
 "metadata": {
  "kernelspec": {
   "display_name": "Python 3.9.5 ('env': venv)",
   "language": "python",
   "name": "python3"
  },
  "language_info": {
   "codemirror_mode": {
    "name": "ipython",
    "version": 3
   },
   "file_extension": ".py",
   "mimetype": "text/x-python",
   "name": "python",
   "nbconvert_exporter": "python",
   "pygments_lexer": "ipython3",
   "version": "3.9.5"
  },
  "metadata": {
   "interpreter": {
    "hash": "ed79646e872651791950082b2c03458eeccb6f2ba65387453ea62da60bf4a67f"
   }
  },
  "orig_nbformat": 2,
  "vscode": {
   "interpreter": {
    "hash": "3fb79a947b1da019707926e26bd25ec7b5da307600dc2b0b8b0c7aa445b590ed"
   }
  }
 },
 "nbformat": 4,
 "nbformat_minor": 2
}
