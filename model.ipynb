{
 "cells": [
  {
   "cell_type": "code",
   "execution_count": 1,
   "metadata": {},
   "outputs": [],
   "source": [
    "%matplotlib inline\n",
    "import numpy as np\n",
    "from numpy import mean\n",
    "from numpy import std\n",
    "from numpy import dstack\n",
    "import pandas as pd\n",
    "from matplotlib import pyplot\n",
    "from keras.models import Sequential\n",
    "from keras.layers import Dense, BatchNormalization\n",
    "from keras.layers import Flatten, LSTM\n",
    "from keras.layers import Dropout\n",
    "from keras.layers.convolutional import Conv1D\n",
    "from keras.layers.convolutional import MaxPooling1D\n",
    "from keras.callbacks import EarlyStopping\n",
    "from tensorflow.keras.utils import to_categorical\n",
    "import matplotlib.pyplot as plt\n",
    "\n",
    "import tensorflow as tf\n",
    "import autokeras as ak"
   ]
  },
  {
   "cell_type": "code",
   "execution_count": 6,
   "metadata": {},
   "outputs": [],
   "source": [
    "#load data\n",
    "from BIAS.SB_Test_runner import get_scens_per_dim, get_simulated_data\n",
    "\n",
    "rep = 500\n",
    "n_samples = 100\n",
    "\n",
    "scenes = get_scens_per_dim()\n",
    "X = []\n",
    "y = []\n",
    "for scene in scenes:\n",
    "    label = scene[0]\n",
    "    kwargs = scene[1]\n",
    "    if (label == \"unif\"):\n",
    "        rep1 = 100 * rep\n",
    "    else:\n",
    "        rep1 = rep\n",
    "    data = get_simulated_data(label, rep=rep1, n_samples = n_samples, kwargs=kwargs)\n",
    "    for r in range(rep1):\n",
    "        X.append(np.sort(data[:,r]))\n",
    "    if (label in [\"trunc_unif\", \"cauchy\", \"norm\"]):\n",
    "        label = \"centre\"\n",
    "    elif (label in [\"bound_thing\"]):\n",
    "        label = \"bounds\"\n",
    "    elif (label in [\"clusters\",\"inv_norm\", \"inv_cauchy\"]):\n",
    "        label = \"cluster\"\n",
    "    elif (label in [\"gaps\", \"part_unif\"]):\n",
    "        label = \"gap\"\n",
    "    elif (label in [\"spikes\", \"shifted_spikes\"]):\n",
    "        label = \"disc\"\n",
    "    y.extend([label]*rep1)\n",
    "\n",
    "X = np.array(X)\n",
    "int_y = pd.factorize(y)[0]\n",
    "targetnames = np.unique(y)\n",
    "\n",
    "cat_y = to_categorical(int_y)"
   ]
  },
  {
   "cell_type": "code",
   "execution_count": 16,
   "metadata": {},
   "outputs": [
    {
     "name": "stdout",
     "output_type": "stream",
     "text": [
      "(158500, 100)\n",
      "(158500,)\n",
      "(158500, 6)\n"
     ]
    }
   ],
   "source": [
    "print(X.shape)\n",
    "print(int_y.shape)\n",
    "print(cat_y.shape)"
   ]
  },
  {
   "cell_type": "code",
   "execution_count": 22,
   "metadata": {},
   "outputs": [
    {
     "name": "stdout",
     "output_type": "stream",
     "text": [
      "Trial 14 Complete [00h 04m 10s]\n",
      "val_accuracy: 0.6572962999343872\n",
      "\n",
      "Best val_accuracy So Far: 0.7068461775779724\n",
      "Total elapsed time: 00h 49m 59s\n",
      "\n",
      "Search: Running Trial #15\n",
      "\n",
      "Hyperparameter    |Value             |Best Value So Far \n",
      "structured_data...|True              |True              \n",
      "structured_data...|False             |False             \n",
      "structured_data...|2                 |3                 \n",
      "structured_data...|512               |512               \n",
      "structured_data...|0                 |0                 \n",
      "structured_data...|16                |16                \n",
      "classification_...|0                 |0                 \n",
      "optimizer         |adam              |adam              \n",
      "learning_rate     |0.001             |0.001             \n",
      "structured_data...|64                |64                \n",
      "\n",
      "Epoch 1/30\n",
      "3171/3171 [==============================] - 8s 2ms/step - loss: 1.0161 - accuracy: 0.5935 - val_loss: 0.8822 - val_accuracy: 0.6542\n",
      "Epoch 2/30\n",
      "3171/3171 [==============================] - 7s 2ms/step - loss: 0.8845 - accuracy: 0.6497 - val_loss: 0.8576 - val_accuracy: 0.6674\n",
      "Epoch 3/30\n",
      "3171/3171 [==============================] - 8s 2ms/step - loss: 0.8529 - accuracy: 0.6664 - val_loss: 0.8455 - val_accuracy: 0.6723\n",
      "Epoch 4/30\n",
      "3171/3171 [==============================] - 8s 3ms/step - loss: 0.8344 - accuracy: 0.6764 - val_loss: 0.8337 - val_accuracy: 0.6796\n",
      "Epoch 5/30\n",
      "3171/3171 [==============================] - 8s 2ms/step - loss: 0.8189 - accuracy: 0.6835 - val_loss: 0.8309 - val_accuracy: 0.6805\n",
      "Epoch 6/30\n",
      "3171/3171 [==============================] - 7s 2ms/step - loss: 0.8085 - accuracy: 0.6891 - val_loss: 0.8177 - val_accuracy: 0.6882\n",
      "Epoch 7/30\n",
      "3171/3171 [==============================] - 8s 3ms/step - loss: 0.7994 - accuracy: 0.6929 - val_loss: 0.8145 - val_accuracy: 0.6909\n",
      "Epoch 8/30\n",
      "3171/3171 [==============================] - 8s 2ms/step - loss: 0.7915 - accuracy: 0.6961 - val_loss: 0.8119 - val_accuracy: 0.6933\n",
      "Epoch 9/30\n",
      "3171/3171 [==============================] - 8s 2ms/step - loss: 0.7846 - accuracy: 0.6998 - val_loss: 0.8086 - val_accuracy: 0.6935\n",
      "Epoch 10/30\n",
      "3171/3171 [==============================] - 8s 2ms/step - loss: 0.7781 - accuracy: 0.7033 - val_loss: 0.8075 - val_accuracy: 0.6939\n",
      "Epoch 11/30\n",
      "3171/3171 [==============================] - 7s 2ms/step - loss: 0.7724 - accuracy: 0.7044 - val_loss: 0.8040 - val_accuracy: 0.6975\n",
      "Epoch 12/30\n",
      "3171/3171 [==============================] - 7s 2ms/step - loss: 0.7680 - accuracy: 0.7083 - val_loss: 0.8025 - val_accuracy: 0.6986\n",
      "Epoch 13/30\n",
      "3171/3171 [==============================] - 7s 2ms/step - loss: 0.7631 - accuracy: 0.7085 - val_loss: 0.7993 - val_accuracy: 0.7003\n",
      "Epoch 14/30\n",
      "3171/3171 [==============================] - 7s 2ms/step - loss: 0.7575 - accuracy: 0.7118 - val_loss: 0.8031 - val_accuracy: 0.6997\n",
      "Epoch 15/30\n",
      "3171/3171 [==============================] - 8s 2ms/step - loss: 0.7548 - accuracy: 0.7128 - val_loss: 0.7908 - val_accuracy: 0.7037\n",
      "Epoch 16/30\n",
      "3171/3171 [==============================] - 7s 2ms/step - loss: 0.7505 - accuracy: 0.7154 - val_loss: 0.7963 - val_accuracy: 0.7023\n",
      "Epoch 17/30\n",
      "3171/3171 [==============================] - 7s 2ms/step - loss: 0.7473 - accuracy: 0.7165 - val_loss: 0.7998 - val_accuracy: 0.6992\n",
      "Epoch 18/30\n",
      " 999/3171 [========>.....................] - ETA: 3s - loss: 0.7499 - accuracy: 0.7159"
     ]
    }
   ],
   "source": [
    "from sklearn.model_selection import train_test_split\n",
    "\n",
    "X_train, X_test, y_train, y_test = train_test_split(X, cat_y, test_size=0.2, random_state=42, stratify=int_y)\n",
    "\n",
    "clf = ak.StructuredDataClassifier(\n",
    "    max_trials=20,\n",
    "    overwrite=True,\n",
    ")\n",
    "# Search for the best model with EarlyStopping.\n",
    "cbs = [\n",
    "    tf.keras.callbacks.EarlyStopping(patience=5),\n",
    "]\n",
    "\n",
    "clf.fit(\n",
    "    x=X_train,\n",
    "    y=y_train,\n",
    "    epochs=30,\n",
    "    callbacks=cbs,\n",
    ")\n",
    "# Evaluate on the testing data.\n",
    "print(\n",
    "    \"Accuracy: {accuracy}\".format(\n",
    "        accuracy=clf.evaluate(x=X_test, y=y_test)\n",
    "    )\n",
    ")"
   ]
  },
  {
   "cell_type": "code",
   "execution_count": 18,
   "metadata": {},
   "outputs": [
    {
     "name": "stdout",
     "output_type": "stream",
     "text": [
      "Model: \"model\"\n",
      "_________________________________________________________________\n",
      "Layer (type)                 Output Shape              Param #   \n",
      "=================================================================\n",
      "input_1 (InputLayer)         [(None, 100)]             0         \n",
      "_________________________________________________________________\n",
      "multi_category_encoding (Mul (None, 100)               0         \n",
      "_________________________________________________________________\n",
      "normalization (Normalization (None, 100)               201       \n",
      "_________________________________________________________________\n",
      "dense (Dense)                (None, 32)                3232      \n",
      "_________________________________________________________________\n",
      "re_lu (ReLU)                 (None, 32)                0         \n",
      "_________________________________________________________________\n",
      "dense_1 (Dense)              (None, 32)                1056      \n",
      "_________________________________________________________________\n",
      "re_lu_1 (ReLU)               (None, 32)                0         \n",
      "_________________________________________________________________\n",
      "dense_2 (Dense)              (None, 6)                 198       \n",
      "_________________________________________________________________\n",
      "classification_head_1 (Softm (None, 6)                 0         \n",
      "=================================================================\n",
      "Total params: 4,687\n",
      "Trainable params: 4,486\n",
      "Non-trainable params: 201\n",
      "_________________________________________________________________\n"
     ]
    }
   ],
   "source": [
    "model = clf.export_model()\n",
    "model.summary()"
   ]
  },
  {
   "cell_type": "code",
   "execution_count": 19,
   "metadata": {},
   "outputs": [],
   "source": [
    "from sklearn.metrics import plot_confusion_matrix\n",
    "from sklearn.neural_network import MLPClassifier\n",
    "class newmodel(MLPClassifier):\n",
    "    def __init__(self, model):\n",
    "        self.model = model\n",
    "    def predict(self, X):\n",
    "        y = self.model.predict(X)\n",
    "        return np.argmax(y, axis=1)\n"
   ]
  },
  {
   "cell_type": "code",
   "execution_count": 20,
   "metadata": {},
   "outputs": [
    {
     "data": {
      "image/png": "[encoded data removed]",
      "text/plain": [
       "<Figure size 1008x1008 with 2 Axes>"
      ]
     },
     "metadata": {
      "needs_background": "light"
     },
     "output_type": "display_data"
    }
   ],
   "source": [
    "model1 = newmodel(model)\n",
    "fig, ax = plt.subplots(figsize=(14, 14))\n",
    "plot_confusion_matrix(model1, X_test, np.argmax(y_test, axis=1), normalize='true', xticks_rotation = 'vertical', display_labels = list(np.unique(targetnames)), ax=ax) \n",
    "plt.show()"
   ]
  },
  {
   "cell_type": "code",
   "execution_count": 21,
   "metadata": {},
   "outputs": [
    {
     "name": "stdout",
     "output_type": "stream",
     "text": [
      "[0 2 2 1 0 0 3 0 0 0]\n"
     ]
    }
   ],
   "source": [
    "y_hat = model1.predict(X_test[:10])\n",
    "print(y_hat)"
   ]
  }
 ],
 "metadata": {
  "interpreter": {
   "hash": "ac59ebe37160ed0dfa835113d9b8498d9f09ceb179beaac4002f036b9467c963"
  },
  "kernelspec": {
   "display_name": "3.8",
   "language": "python",
   "name": "3.8"
  },
  "language_info": {
   "codemirror_mode": {
    "name": "ipython",
    "version": 3
   },
   "file_extension": ".py",
   "mimetype": "text/x-python",
   "name": "python",
   "nbconvert_exporter": "python",
   "pygments_lexer": "ipython3",
   "version": "3.8.1"
  },
  "metadata": {
   "interpreter": {
    "hash": "ed79646e872651791950082b2c03458eeccb6f2ba65387453ea62da60bf4a67f"
   }
  },
  "orig_nbformat": 2
 },
 "nbformat": 4,
 "nbformat_minor": 2
}
