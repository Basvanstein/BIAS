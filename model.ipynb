{
 "cells": [
  {
   "cell_type": "code",
   "execution_count": 1,
   "metadata": {},
   "outputs": [],
   "source": [
    "%matplotlib inline\n",
    "import numpy as np\n",
    "import pandas as pd\n",
    "from tensorflow.keras.utils import to_categorical\n",
    "import matplotlib.pyplot as plt\n",
    "\n",
    "import tensorflow as tf\n",
    "import autokeras as ak"
   ]
  },
  {
   "cell_type": "code",
   "execution_count": 2,
   "metadata": {},
   "outputs": [],
   "source": [
    "#load data\n",
    "from BIAS.SB_Test_runner import get_scens_per_dim, get_simulated_data\n",
    "\n",
    "rep = 500\n",
    "n_samples = 100\n",
    "\n",
    "scenes = get_scens_per_dim()\n",
    "X = []\n",
    "y = []\n",
    "for scene in scenes:\n",
    "    label = scene[0]\n",
    "    kwargs = scene[1]\n",
    "    if (label == \"unif\"):\n",
    "        rep1 = 100 * rep\n",
    "    else:\n",
    "        rep1 = rep\n",
    "    data = get_simulated_data(label, rep=rep1, n_samples = n_samples, kwargs=kwargs)\n",
    "    for r in range(rep1):\n",
    "        X.append(np.sort(data[:,r]))\n",
    "    if (label in [\"trunc_unif\", \"cauchy\", \"norm\"]):\n",
    "        label = \"centre\"\n",
    "    elif (label in [\"bound_thing\"]):\n",
    "        label = \"bounds\"\n",
    "    elif (label in [\"clusters\",\"inv_norm\", \"inv_cauchy\"]):\n",
    "        label = \"cluster\"\n",
    "    elif (label in [\"gaps\", \"part_unif\"]):\n",
    "        label = \"gap\"\n",
    "    elif (label in [\"spikes\", \"shifted_spikes\"]):\n",
    "        label = \"disc\"\n",
    "    y.extend([label]*rep1)\n",
    "\n",
    "X = np.array(X)\n",
    "int_y = pd.factorize(y)[0]\n",
    "targetnames = np.unique(y)\n",
    "\n",
    "cat_y = to_categorical(int_y)"
   ]
  },
  {
   "cell_type": "code",
   "execution_count": 3,
   "metadata": {},
   "outputs": [
    {
     "name": "stdout",
     "output_type": "stream",
     "text": [
      "(148000, 100)\n",
      "(148000,)\n",
      "(148000, 6)\n"
     ]
    }
   ],
   "source": [
    "print(X.shape)\n",
    "print(int_y.shape)\n",
    "print(cat_y.shape)"
   ]
  },
  {
   "cell_type": "code",
   "execution_count": 4,
   "metadata": {},
   "outputs": [
    {
     "name": "stdout",
     "output_type": "stream",
     "text": [
      "Trial 10 Complete [00h 05m 02s]\n",
      "val_accuracy: 0.7160895466804504\n",
      "\n",
      "Best val_accuracy So Far: 0.7419341206550598\n",
      "Total elapsed time: 00h 36m 07s\n",
      "INFO:tensorflow:Oracle triggered exit\n",
      "Epoch 1/40\n",
      "3700/3700 [==============================] - 8s 2ms/step - loss: 0.9440 - accuracy: 0.6195\n",
      "Epoch 2/40\n",
      "3700/3700 [==============================] - 7s 2ms/step - loss: 0.7996 - accuracy: 0.6775\n",
      "Epoch 3/40\n",
      "3700/3700 [==============================] - 7s 2ms/step - loss: 0.7640 - accuracy: 0.6965\n",
      "Epoch 4/40\n",
      "3700/3700 [==============================] - 7s 2ms/step - loss: 0.7398 - accuracy: 0.7080\n",
      "Epoch 5/40\n",
      "3700/3700 [==============================] - 7s 2ms/step - loss: 0.7261 - accuracy: 0.7145\n",
      "Epoch 6/40\n",
      "3700/3700 [==============================] - 8s 2ms/step - loss: 0.7152 - accuracy: 0.7193\n",
      "Epoch 7/40\n",
      "3700/3700 [==============================] - 8s 2ms/step - loss: 0.7064 - accuracy: 0.7228\n",
      "Epoch 8/40\n",
      "3700/3700 [==============================] - 7s 2ms/step - loss: 0.6960 - accuracy: 0.7300\n",
      "Epoch 9/40\n",
      "3700/3700 [==============================] - 8s 2ms/step - loss: 0.6862 - accuracy: 0.7335\n",
      "Epoch 10/40\n",
      "3700/3700 [==============================] - 8s 2ms/step - loss: 0.6784 - accuracy: 0.7370\n",
      "Epoch 11/40\n",
      "3700/3700 [==============================] - 8s 2ms/step - loss: 0.6710 - accuracy: 0.7415\n",
      "Epoch 12/40\n",
      "3700/3700 [==============================] - 8s 2ms/step - loss: 0.6698 - accuracy: 0.7441\n",
      "Epoch 13/40\n",
      "3700/3700 [==============================] - 8s 2ms/step - loss: 0.6598 - accuracy: 0.7473\n",
      "Epoch 14/40\n",
      "3700/3700 [==============================] - 8s 2ms/step - loss: 0.6547 - accuracy: 0.7502\n",
      "Epoch 15/40\n",
      "3700/3700 [==============================] - 8s 2ms/step - loss: 0.6494 - accuracy: 0.7525\n",
      "Epoch 16/40\n",
      "3700/3700 [==============================] - 8s 2ms/step - loss: 0.6463 - accuracy: 0.7528\n",
      "Epoch 17/40\n",
      "3700/3700 [==============================] - 8s 2ms/step - loss: 0.6410 - accuracy: 0.7563\n",
      "Epoch 18/40\n",
      "3700/3700 [==============================] - 7s 2ms/step - loss: 0.6370 - accuracy: 0.7591\n",
      "Epoch 19/40\n",
      "3700/3700 [==============================] - 8s 2ms/step - loss: 0.6314 - accuracy: 0.7621\n",
      "Epoch 20/40\n",
      "3700/3700 [==============================] - 8s 2ms/step - loss: 0.6272 - accuracy: 0.7634\n",
      "Epoch 21/40\n",
      "3700/3700 [==============================] - 7s 2ms/step - loss: 0.6243 - accuracy: 0.7652\n",
      "Epoch 22/40\n",
      "3700/3700 [==============================] - 7s 2ms/step - loss: 0.6204 - accuracy: 0.7656\n",
      "Epoch 23/40\n",
      "3700/3700 [==============================] - 8s 2ms/step - loss: 0.6171 - accuracy: 0.7683\n",
      "Epoch 24/40\n",
      "3700/3700 [==============================] - 8s 2ms/step - loss: 0.6128 - accuracy: 0.7702\n",
      "Epoch 25/40\n",
      "3700/3700 [==============================] - 7s 2ms/step - loss: 0.6095 - accuracy: 0.7713\n",
      "Epoch 26/40\n",
      "3700/3700 [==============================] - 9s 2ms/step - loss: 0.6063 - accuracy: 0.7734\n",
      "Epoch 27/40\n",
      "3700/3700 [==============================] - 8s 2ms/step - loss: 0.6016 - accuracy: 0.7753\n",
      "Epoch 28/40\n",
      "3700/3700 [==============================] - 8s 2ms/step - loss: 0.5981 - accuracy: 0.7771\n",
      "Epoch 29/40\n",
      "3700/3700 [==============================] - 8s 2ms/step - loss: 0.5948 - accuracy: 0.7782\n",
      "Epoch 30/40\n",
      "3700/3700 [==============================] - 8s 2ms/step - loss: 0.5917 - accuracy: 0.7796\n",
      "Epoch 31/40\n",
      "3700/3700 [==============================] - 8s 2ms/step - loss: 0.5893 - accuracy: 0.7807\n",
      "Epoch 32/40\n",
      "3700/3700 [==============================] - 8s 2ms/step - loss: 0.5871 - accuracy: 0.7821\n",
      "Epoch 33/40\n",
      "3700/3700 [==============================] - 8s 2ms/step - loss: 0.5837 - accuracy: 0.7830\n",
      "Epoch 34/40\n",
      "3700/3700 [==============================] - 8s 2ms/step - loss: 0.5823 - accuracy: 0.7840\n",
      "Epoch 35/40\n",
      "3700/3700 [==============================] - 8s 2ms/step - loss: 0.5776 - accuracy: 0.7866\n",
      "Epoch 36/40\n",
      "3700/3700 [==============================] - 8s 2ms/step - loss: 0.5758 - accuracy: 0.7876\n",
      "Epoch 37/40\n",
      "3700/3700 [==============================] - 8s 2ms/step - loss: 0.5708 - accuracy: 0.7890\n",
      "Epoch 38/40\n",
      "3700/3700 [==============================] - 8s 2ms/step - loss: 0.5693 - accuracy: 0.7911\n",
      "Epoch 39/40\n",
      "3700/3700 [==============================] - 8s 2ms/step - loss: 0.5656 - accuracy: 0.7919\n",
      "Epoch 40/40\n",
      "3700/3700 [==============================] - 8s 2ms/step - loss: 0.5649 - accuracy: 0.7920\n",
      "INFO:tensorflow:Assets written to: ./structured_data_classifier/best_model/assets\n",
      "925/925 [==============================] - 2s 1ms/step - loss: 0.7313 - accuracy: 0.7436\n",
      "Accuracy: [0.7312636375427246, 0.7436486482620239]\n"
     ]
    }
   ],
   "source": [
    "from sklearn.model_selection import train_test_split\n",
    "\n",
    "X_train, X_test, y_train, y_test = train_test_split(X, cat_y, test_size=0.2, random_state=42, stratify=int_y)\n",
    "\n",
    "clf = ak.StructuredDataClassifier(\n",
    "    max_trials=10,\n",
    "    overwrite=True,\n",
    ")\n",
    "# Search for the best model with EarlyStopping.\n",
    "cbs = [\n",
    "    tf.keras.callbacks.EarlyStopping(patience=5),\n",
    "]\n",
    "\n",
    "clf.fit(\n",
    "    x=X_train,\n",
    "    y=y_train,\n",
    "    epochs=40,\n",
    "    callbacks=cbs,\n",
    ")\n",
    "# Evaluate on the testing data.\n",
    "print(\n",
    "    \"Accuracy: {accuracy}\".format(\n",
    "        accuracy=clf.evaluate(x=X_test, y=y_test)\n",
    "    )\n",
    ")"
   ]
  },
  {
   "cell_type": "code",
   "execution_count": 5,
   "metadata": {},
   "outputs": [
    {
     "name": "stdout",
     "output_type": "stream",
     "text": [
      "Model: \"model\"\n",
      "_________________________________________________________________\n",
      "Layer (type)                 Output Shape              Param #   \n",
      "=================================================================\n",
      "input_1 (InputLayer)         [(None, 100)]             0         \n",
      "_________________________________________________________________\n",
      "multi_category_encoding (Mul (None, 100)               0         \n",
      "_________________________________________________________________\n",
      "normalization (Normalization (None, 100)               201       \n",
      "_________________________________________________________________\n",
      "dense (Dense)                (None, 512)               51712     \n",
      "_________________________________________________________________\n",
      "re_lu (ReLU)                 (None, 512)               0         \n",
      "_________________________________________________________________\n",
      "dense_1 (Dense)              (None, 32)                16416     \n",
      "_________________________________________________________________\n",
      "re_lu_1 (ReLU)               (None, 32)                0         \n",
      "_________________________________________________________________\n",
      "dense_2 (Dense)              (None, 6)                 198       \n",
      "_________________________________________________________________\n",
      "classification_head_1 (Softm (None, 6)                 0         \n",
      "=================================================================\n",
      "Total params: 68,527\n",
      "Trainable params: 68,326\n",
      "Non-trainable params: 201\n",
      "_________________________________________________________________\n"
     ]
    }
   ],
   "source": [
    "model = clf.export_model()\n",
    "model.summary()\n",
    "model.save(\"model_new_data.h5\")"
   ]
  },
  {
   "cell_type": "code",
   "execution_count": 6,
   "metadata": {},
   "outputs": [],
   "source": [
    "from sklearn.metrics import plot_confusion_matrix\n",
    "from sklearn.neural_network import MLPClassifier\n",
    "class newmodel(MLPClassifier):\n",
    "    def __init__(self, model):\n",
    "        self.model = model\n",
    "    def predict(self, X):\n",
    "        y = self.model.predict(X)\n",
    "        return np.argmax(y, axis=1)\n"
   ]
  },
  {
   "cell_type": "code",
   "execution_count": 7,
   "metadata": {},
   "outputs": [
    {
     "data": {
      "image/png": "[encoded data removed]",
      "text/plain": [
       "<Figure size 1008x1008 with 2 Axes>"
      ]
     },
     "metadata": {
      "needs_background": "light"
     },
     "output_type": "display_data"
    }
   ],
   "source": [
    "model1 = newmodel(model)\n",
    "fig, ax = plt.subplots(figsize=(14, 14))\n",
    "plot_confusion_matrix(model1, X_test, np.argmax(y_test, axis=1), normalize='true', xticks_rotation = 'vertical', display_labels = list(np.unique(targetnames)), ax=ax) \n",
    "plt.show()"
   ]
  },
  {
   "cell_type": "code",
   "execution_count": 9,
   "metadata": {},
   "outputs": [
    {
     "name": "stdout",
     "output_type": "stream",
     "text": [
      "[5 3 4 4 0 4 0 3 0 0]\n",
      "[[0. 0. 0. 0. 0. 1.]\n",
      " [0. 0. 0. 1. 0. 0.]\n",
      " [0. 0. 0. 0. 1. 0.]\n",
      " [0. 0. 0. 0. 1. 0.]\n",
      " [1. 0. 0. 0. 0. 0.]\n",
      " [0. 0. 0. 0. 1. 0.]\n",
      " [1. 0. 0. 0. 0. 0.]\n",
      " [0. 0. 1. 0. 0. 0.]\n",
      " [1. 0. 0. 0. 0. 0.]\n",
      " [1. 0. 0. 0. 0. 0.]]\n"
     ]
    }
   ],
   "source": [
    "y_hat = model1.predict(X_test[:10])\n",
    "print(y_hat)\n",
    "print(y_test[:10])"
   ]
  }
 ],
 "metadata": {
  "interpreter": {
   "hash": "ac59ebe37160ed0dfa835113d9b8498d9f09ceb179beaac4002f036b9467c963"
  },
  "kernelspec": {
   "display_name": "3.8",
   "language": "python",
   "name": "3.8"
  },
  "language_info": {
   "codemirror_mode": {
    "name": "ipython",
    "version": 3
   },
   "file_extension": ".py",
   "mimetype": "text/x-python",
   "name": "python",
   "nbconvert_exporter": "python",
   "pygments_lexer": "ipython3",
   "version": "3.8.1"
  },
  "metadata": {
   "interpreter": {
    "hash": "ed79646e872651791950082b2c03458eeccb6f2ba65387453ea62da60bf4a67f"
   }
  },
  "orig_nbformat": 2
 },
 "nbformat": 4,
 "nbformat_minor": 2
}
