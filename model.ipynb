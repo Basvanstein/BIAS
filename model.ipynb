{
 "cells": [
  {
   "cell_type": "code",
   "execution_count": 1,
   "metadata": {},
   "outputs": [],
   "source": [
    "%matplotlib inline\n",
    "import numpy as np\n",
    "from numpy import mean\n",
    "from numpy import std\n",
    "from numpy import dstack\n",
    "import pandas as pd\n",
    "from matplotlib import pyplot\n",
    "from keras.models import Sequential\n",
    "from keras.layers import Dense, BatchNormalization\n",
    "from keras.layers import Flatten, LSTM\n",
    "from keras.layers import Dropout\n",
    "from keras.layers.convolutional import Conv1D\n",
    "from keras.layers.convolutional import MaxPooling1D\n",
    "from keras.callbacks import EarlyStopping\n",
    "from tensorflow.keras.utils import to_categorical\n",
    "import matplotlib.pyplot as plt\n",
    "\n",
    "import tensorflow as tf\n",
    "import autokeras as ak"
   ]
  },
  {
   "cell_type": "code",
   "execution_count": 2,
   "metadata": {},
   "outputs": [],
   "source": [
    "#load data\n",
    "from BIAS.SB_Test_runner import get_scens_per_dim, get_simulated_data\n",
    "\n",
    "rep = 500\n",
    "n_samples = 100\n",
    "\n",
    "scenes = get_scens_per_dim()\n",
    "X = []\n",
    "y = []\n",
    "for scene in scenes:\n",
    "    label = scene[0]\n",
    "    kwargs = scene[1]\n",
    "    if (label == \"unif\"):\n",
    "        rep1 = 100 * rep\n",
    "    else:\n",
    "        rep1 = rep\n",
    "    data = get_simulated_data(label, rep=rep1, n_samples = n_samples, kwargs=kwargs)\n",
    "    for r in range(rep):\n",
    "        X.append(np.sort(data[:,r]))\n",
    "    if (label in [\"trunc_unif\", \"cauchy\", \"norm\"]):\n",
    "        label = \"centre\"\n",
    "    elif (label in [\"inv_norm\", \"inv_cauchy\",\"bound_thing\"]):\n",
    "        label = \"bounds\"\n",
    "    elif (label in [\"clusters\"]):\n",
    "        label = \"cluster\"\n",
    "    elif (label in [\"gaps\", \"part_unif\"]):\n",
    "        label = \"gap\"\n",
    "    elif (label in [\"spikes\", \"shifted_spikes\"]):\n",
    "        label = \"disc\"\n",
    "    y.extend([label]*rep1)\n",
    "\n",
    "X = np.array(X)\n",
    "int_y = pd.factorize(y)[0]\n",
    "targetnames = np.unique(y)\n",
    "\n",
    "cat_y = to_categorical(int_y)"
   ]
  },
  {
   "cell_type": "code",
   "execution_count": 13,
   "metadata": {},
   "outputs": [
    {
     "name": "stdout",
     "output_type": "stream",
     "text": [
      "Trial 3 Complete [00h 00m 18s]\n",
      "val_accuracy: 0.7053571343421936\n",
      "\n",
      "Best val_accuracy So Far: 0.7053571343421936\n",
      "Total elapsed time: 00h 00m 41s\n",
      "INFO:tensorflow:Oracle triggered exit\n",
      "Epoch 1/10\n",
      "443/443 [==============================] - 3s 4ms/step - loss: 0.9837 - accuracy: 0.6155\n",
      "Epoch 2/10\n",
      "443/443 [==============================] - 2s 3ms/step - loss: 0.8130 - accuracy: 0.6907\n",
      "Epoch 3/10\n",
      "443/443 [==============================] - 2s 4ms/step - loss: 0.7710 - accuracy: 0.7040\n",
      "Epoch 4/10\n",
      "443/443 [==============================] - 2s 4ms/step - loss: 0.7406 - accuracy: 0.7161\n",
      "Epoch 5/10\n",
      "443/443 [==============================] - 2s 4ms/step - loss: 0.7166 - accuracy: 0.7291\n",
      "Epoch 6/10\n",
      "443/443 [==============================] - 2s 3ms/step - loss: 0.6957 - accuracy: 0.7364\n",
      "Epoch 7/10\n",
      "443/443 [==============================] - 2s 3ms/step - loss: 0.6779 - accuracy: 0.7437\n",
      "Epoch 8/10\n",
      "443/443 [==============================] - 2s 4ms/step - loss: 0.6590 - accuracy: 0.7509\n",
      "Epoch 9/10\n",
      "443/443 [==============================] - 2s 3ms/step - loss: 0.6404 - accuracy: 0.7591\n",
      "Epoch 10/10\n",
      "443/443 [==============================] - 2s 4ms/step - loss: 0.6245 - accuracy: 0.7662\n",
      "INFO:tensorflow:Assets written to: ./structured_data_classifier/best_model/assets\n",
      "111/111 [==============================] - 1s 2ms/step - loss: 0.7317 - accuracy: 0.7314\n",
      "Accuracy: [0.7316755652427673, 0.7313559055328369]\n"
     ]
    }
   ],
   "source": [
    "from sklearn.model_selection import train_test_split\n",
    "\n",
    "X_train, X_test, y_train, y_test = train_test_split(X, cat_y, test_size=0.2, random_state=42, stratify=int_y)\n",
    "\n",
    "clf = ak.StructuredDataClassifier(\n",
    "    max_trials=10,\n",
    "    overwrite=True,\n",
    ")\n",
    "# Search for the best model with EarlyStopping.\n",
    "cbs = [\n",
    "    tf.keras.callbacks.EarlyStopping(patience=5),\n",
    "]\n",
    "\n",
    "clf.fit(\n",
    "    x=X_train,\n",
    "    y=y_train,\n",
    "    epochs=10,\n",
    "    callbacks=cbs,\n",
    ")\n",
    "# Evaluate on the testing data.\n",
    "print(\n",
    "    \"Accuracy: {accuracy}\".format(\n",
    "        accuracy=clf.evaluate(x=X_test, y=y_test)\n",
    "    )\n",
    ")"
   ]
  },
  {
   "cell_type": "code",
   "execution_count": 14,
   "metadata": {},
   "outputs": [
    {
     "name": "stdout",
     "output_type": "stream",
     "text": [
      "Model: \"model\"\n",
      "_________________________________________________________________\n",
      "Layer (type)                 Output Shape              Param #   \n",
      "=================================================================\n",
      "input_1 (InputLayer)         [(None, 100)]             0         \n",
      "_________________________________________________________________\n",
      "multi_category_encoding (Mul (None, 100)               0         \n",
      "_________________________________________________________________\n",
      "normalization (Normalization (None, 100)               201       \n",
      "_________________________________________________________________\n",
      "dense (Dense)                (None, 256)               25856     \n",
      "_________________________________________________________________\n",
      "re_lu (ReLU)                 (None, 256)               0         \n",
      "_________________________________________________________________\n",
      "dense_1 (Dense)              (None, 1024)              263168    \n",
      "_________________________________________________________________\n",
      "re_lu_1 (ReLU)               (None, 1024)              0         \n",
      "_________________________________________________________________\n",
      "dense_2 (Dense)              (None, 6)                 6150      \n",
      "_________________________________________________________________\n",
      "classification_head_1 (Softm (None, 6)                 0         \n",
      "=================================================================\n",
      "Total params: 295,375\n",
      "Trainable params: 295,174\n",
      "Non-trainable params: 201\n",
      "_________________________________________________________________\n"
     ]
    }
   ],
   "source": [
    "model = clf.export_model()\n",
    "model.summary()"
   ]
  },
  {
   "cell_type": "code",
   "execution_count": 15,
   "metadata": {},
   "outputs": [],
   "source": [
    "from sklearn.metrics import plot_confusion_matrix\n",
    "from sklearn.neural_network import MLPClassifier\n",
    "class newmodel(MLPClassifier):\n",
    "    def __init__(self, model):\n",
    "        self.model = model\n",
    "    def predict(self, X):\n",
    "        y = self.model.predict(X)\n",
    "        return np.argmax(y, axis=1)\n"
   ]
  },
  {
   "cell_type": "code",
   "execution_count": 16,
   "metadata": {},
   "outputs": [
    {
     "data": {
      "image/png": "[encoded data removed]",
      "text/plain": [
       "<Figure size 1008x1008 with 2 Axes>"
      ]
     },
     "metadata": {
      "needs_background": "light"
     },
     "output_type": "display_data"
    }
   ],
   "source": [
    "model1 = newmodel(model)\n",
    "fig, ax = plt.subplots(figsize=(14, 14))\n",
    "plot_confusion_matrix(model1, X_test, np.argmax(y_test, axis=1), normalize='true', xticks_rotation = 'vertical', display_labels = list(np.unique(targetnames)), ax=ax) \n",
    "plt.show()"
   ]
  }
 ],
 "metadata": {
  "interpreter": {
   "hash": "ac59ebe37160ed0dfa835113d9b8498d9f09ceb179beaac4002f036b9467c963"
  },
  "kernelspec": {
   "display_name": "3.8",
   "language": "python",
   "name": "3.8"
  },
  "language_info": {
   "codemirror_mode": {
    "name": "ipython",
    "version": 3
   },
   "file_extension": ".py",
   "mimetype": "text/x-python",
   "name": "python",
   "nbconvert_exporter": "python",
   "pygments_lexer": "ipython3",
   "version": "3.8.1"
  },
  "metadata": {
   "interpreter": {
    "hash": "ed79646e872651791950082b2c03458eeccb6f2ba65387453ea62da60bf4a67f"
   }
  },
  "orig_nbformat": 2
 },
 "nbformat": 4,
 "nbformat_minor": 2
}
