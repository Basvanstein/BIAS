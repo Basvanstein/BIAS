{
 "cells": [
  {
   "cell_type": "code",
   "execution_count": 17,
   "metadata": {},
   "outputs": [
    {
     "name": "stdout",
     "output_type": "stream",
     "text": [
      "(1940, 100)\n",
      "(1940,)\n",
      "[0.01275807 0.04389077 0.05054777 0.05891143 0.06590679 0.0753908\n",
      " 0.08929127 0.09298222 0.10242367 0.12755061 0.12906081 0.14693412\n",
      " 0.14801708 0.15490245 0.1583461  0.16997501 0.1701971  0.17913572\n",
      " 0.19214714 0.19308307 0.19313298 0.19763945 0.20226655 0.2083299\n",
      " 0.2126714  0.2207898  0.22843801 0.22930645 0.22982191 0.24739371\n",
      " 0.2602187  0.26224426 0.27231926 0.29978297 0.3151724  0.32528214\n",
      " 0.34871966 0.37343294 0.38262032 0.38490435 0.38800985 0.39597207\n",
      " 0.42166989 0.43829831 0.44289731 0.44540197 0.46509692 0.46764155\n",
      " 0.47911549 0.48102497 0.49059743 0.49356333 0.50272559 0.52097945\n",
      " 0.53509877 0.53632927 0.54227872 0.55856052 0.56011508 0.58851269\n",
      " 0.59060649 0.59434413 0.59750105 0.61082677 0.61458868 0.61618523\n",
      " 0.61645135 0.6182838  0.61838319 0.618917   0.62761559 0.62959472\n",
      " 0.65863812 0.66066441 0.66353362 0.67928863 0.68879079 0.69500505\n",
      " 0.71632164 0.71995417 0.73717144 0.74286048 0.77679485 0.79070346\n",
      " 0.79161898 0.79415318 0.81006375 0.82444134 0.82783392 0.83161549\n",
      " 0.83704004 0.88772684 0.90644683 0.91811989 0.92493254 0.93206424\n",
      " 0.93910737 0.95034923 0.95559959 0.95691662] unif\n"
     ]
    }
   ],
   "source": [
    "from BIAS.SB_Test_runner import get_scens_per_dim, get_simulated_data\n",
    "import numpy as np \n",
    "\n",
    "rep = 10\n",
    "n_samples = 100\n",
    "\n",
    "scenes = get_scens_per_dim()\n",
    "X = []\n",
    "y = []\n",
    "for scene in scenes:\n",
    "    label = scene[0]\n",
    "    kwargs = scene[1]\n",
    "    if (label == \"unif\"):\n",
    "        rep1 = 10 * rep\n",
    "    else:\n",
    "        rep1 = rep\n",
    "    data = get_simulated_data(label, rep=rep1, n_samples = n_samples, kwargs=kwargs)\n",
    "    for r in range(rep):\n",
    "        X.append(np.sort(data[:,r]))\n",
    "    y.extend([label]*rep)\n",
    "\n",
    "X = np.array(X)\n",
    "y = np.array(y)\n",
    "\n",
    "#data ready for processing\n"
   ]
  }
 ],
 "metadata": {
  "interpreter": {
   "hash": "4ebad9fe92b27b03660f6f8163f6ef7590d886db285813c0175a72e25be62d30"
  },
  "kernelspec": {
   "display_name": "Python 3.8.1 64-bit ('shims': pyenv)",
   "name": "python3"
  },
  "language_info": {
   "codemirror_mode": {
    "name": "ipython",
    "version": 3
   },
   "file_extension": ".py",
   "mimetype": "text/x-python",
   "name": "python",
   "nbconvert_exporter": "python",
   "pygments_lexer": "ipython3",
   "version": "3.8.1"
  },
  "orig_nbformat": 4
 },
 "nbformat": 4,
 "nbformat_minor": 2
}
